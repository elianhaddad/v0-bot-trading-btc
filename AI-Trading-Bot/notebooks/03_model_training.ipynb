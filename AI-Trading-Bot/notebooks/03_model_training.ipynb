{
 "cells": [
  {
   "cell_type": "markdown",
   "id": "841b83a5",
   "metadata": {},
   "source": [
    "\n",
    "# ⚙️ 03 - Model Training for BTC/USDT\n",
    "\n",
    "**Objective:**  \n",
    "In this notebook, we will **train a basic AI model** (a classifier) to predict whether the BTC/USDT price will move up or down in the near future. We'll use the features generated in `02_feature_engineering.ipynb`.\n",
    "\n",
    "---\n",
    "\n",
    "## 📌 Overview\n",
    "\n",
    "1. **Load the enhanced dataset** (`BTCUSDT_1m_features.csv`).\n",
    "2. **Define a target variable** (e.g., predict if the next close is higher than the current close).\n",
    "3. **Split the data** into train and test sets.\n",
    "4. **Train a baseline model** (e.g., Random Forest).\n",
    "5. **Evaluate performance** with accuracy, confusion matrix, or other metrics.\n",
    "6. **Discuss next steps** (hyperparameter tuning, model improvement, real-time integration).\n",
    "\n",
    "---\n",
    "\n",
    "## 💡 Why This Matters\n",
    "\n",
    "- Feature engineering + a well-defined target variable + the right split → a good starting point for AI-based trading signals.\n",
    "- You’ll see if your features actually help or if you need more advanced engineering.\n"
   ]
  },
  {
   "cell_type": "code",
   "execution_count": 1,
   "id": "62fc814f",
   "metadata": {},
   "outputs": [
    {
     "name": "stdout",
     "output_type": "stream",
     "text": [
      "Data loaded. Here are the first 5 rows:\n"
     ]
    },
    {
     "data": {
      "text/html": [
       "<div>\n",
       "<style scoped>\n",
       "    .dataframe tbody tr th:only-of-type {\n",
       "        vertical-align: middle;\n",
       "    }\n",
       "\n",
       "    .dataframe tbody tr th {\n",
       "        vertical-align: top;\n",
       "    }\n",
       "\n",
       "    .dataframe thead th {\n",
       "        text-align: right;\n",
       "    }\n",
       "</style>\n",
       "<table border=\"1\" class=\"dataframe\">\n",
       "  <thead>\n",
       "    <tr style=\"text-align: right;\">\n",
       "      <th></th>\n",
       "      <th>open_time</th>\n",
       "      <th>open</th>\n",
       "      <th>high</th>\n",
       "      <th>low</th>\n",
       "      <th>close</th>\n",
       "      <th>volume</th>\n",
       "      <th>close_time</th>\n",
       "      <th>quote_asset_volume</th>\n",
       "      <th>number_of_trades</th>\n",
       "      <th>taker_buy_volume</th>\n",
       "      <th>...</th>\n",
       "      <th>day_of_week</th>\n",
       "      <th>hour_of_day</th>\n",
       "      <th>ma_14</th>\n",
       "      <th>ema_14</th>\n",
       "      <th>bb_upper</th>\n",
       "      <th>bb_lower</th>\n",
       "      <th>rsi_14</th>\n",
       "      <th>close_lag1</th>\n",
       "      <th>close_lag2</th>\n",
       "      <th>returns_1m</th>\n",
       "    </tr>\n",
       "  </thead>\n",
       "  <tbody>\n",
       "    <tr>\n",
       "      <th>0</th>\n",
       "      <td>2024-01-01 00:00:00</td>\n",
       "      <td>42283.58</td>\n",
       "      <td>42298.62</td>\n",
       "      <td>42261.02</td>\n",
       "      <td>42298.61</td>\n",
       "      <td>35.92724</td>\n",
       "      <td>2024-01-01 00:00:59.999</td>\n",
       "      <td>1.519032e+06</td>\n",
       "      <td>1327</td>\n",
       "      <td>23.18766</td>\n",
       "      <td>...</td>\n",
       "      <td>0</td>\n",
       "      <td>0</td>\n",
       "      <td>NaN</td>\n",
       "      <td>42298.610000</td>\n",
       "      <td>NaN</td>\n",
       "      <td>NaN</td>\n",
       "      <td>NaN</td>\n",
       "      <td>NaN</td>\n",
       "      <td>NaN</td>\n",
       "      <td>NaN</td>\n",
       "    </tr>\n",
       "    <tr>\n",
       "      <th>1</th>\n",
       "      <td>2024-01-01 00:01:00</td>\n",
       "      <td>42298.62</td>\n",
       "      <td>42320.00</td>\n",
       "      <td>42298.61</td>\n",
       "      <td>42320.00</td>\n",
       "      <td>21.16779</td>\n",
       "      <td>2024-01-01 00:01:59.999</td>\n",
       "      <td>8.955809e+05</td>\n",
       "      <td>1348</td>\n",
       "      <td>13.47483</td>\n",
       "      <td>...</td>\n",
       "      <td>0</td>\n",
       "      <td>0</td>\n",
       "      <td>NaN</td>\n",
       "      <td>42301.462000</td>\n",
       "      <td>NaN</td>\n",
       "      <td>NaN</td>\n",
       "      <td>NaN</td>\n",
       "      <td>42298.61</td>\n",
       "      <td>NaN</td>\n",
       "      <td>0.000506</td>\n",
       "    </tr>\n",
       "    <tr>\n",
       "      <th>2</th>\n",
       "      <td>2024-01-01 00:02:00</td>\n",
       "      <td>42319.99</td>\n",
       "      <td>42331.54</td>\n",
       "      <td>42319.99</td>\n",
       "      <td>42325.50</td>\n",
       "      <td>21.60391</td>\n",
       "      <td>2024-01-01 00:02:59.999</td>\n",
       "      <td>9.143711e+05</td>\n",
       "      <td>1019</td>\n",
       "      <td>11.21801</td>\n",
       "      <td>...</td>\n",
       "      <td>0</td>\n",
       "      <td>0</td>\n",
       "      <td>NaN</td>\n",
       "      <td>42304.667067</td>\n",
       "      <td>NaN</td>\n",
       "      <td>NaN</td>\n",
       "      <td>NaN</td>\n",
       "      <td>42320.00</td>\n",
       "      <td>42298.61</td>\n",
       "      <td>0.000130</td>\n",
       "    </tr>\n",
       "    <tr>\n",
       "      <th>3</th>\n",
       "      <td>2024-01-01 00:03:00</td>\n",
       "      <td>42325.50</td>\n",
       "      <td>42368.00</td>\n",
       "      <td>42325.49</td>\n",
       "      <td>42367.99</td>\n",
       "      <td>30.50730</td>\n",
       "      <td>2024-01-01 00:03:59.999</td>\n",
       "      <td>1.291997e+06</td>\n",
       "      <td>1241</td>\n",
       "      <td>24.04878</td>\n",
       "      <td>...</td>\n",
       "      <td>0</td>\n",
       "      <td>0</td>\n",
       "      <td>NaN</td>\n",
       "      <td>42313.110124</td>\n",
       "      <td>NaN</td>\n",
       "      <td>NaN</td>\n",
       "      <td>NaN</td>\n",
       "      <td>42325.50</td>\n",
       "      <td>42320.00</td>\n",
       "      <td>0.001004</td>\n",
       "    </tr>\n",
       "    <tr>\n",
       "      <th>4</th>\n",
       "      <td>2024-01-01 00:04:00</td>\n",
       "      <td>42368.00</td>\n",
       "      <td>42397.23</td>\n",
       "      <td>42367.99</td>\n",
       "      <td>42397.23</td>\n",
       "      <td>46.05107</td>\n",
       "      <td>2024-01-01 00:04:59.999</td>\n",
       "      <td>1.951945e+06</td>\n",
       "      <td>1415</td>\n",
       "      <td>34.12804</td>\n",
       "      <td>...</td>\n",
       "      <td>0</td>\n",
       "      <td>0</td>\n",
       "      <td>NaN</td>\n",
       "      <td>42324.326108</td>\n",
       "      <td>NaN</td>\n",
       "      <td>NaN</td>\n",
       "      <td>NaN</td>\n",
       "      <td>42367.99</td>\n",
       "      <td>42325.50</td>\n",
       "      <td>0.000690</td>\n",
       "    </tr>\n",
       "  </tbody>\n",
       "</table>\n",
       "<p>5 rows × 21 columns</p>\n",
       "</div>"
      ],
      "text/plain": [
       "             open_time      open      high       low     close    volume  \\\n",
       "0  2024-01-01 00:00:00  42283.58  42298.62  42261.02  42298.61  35.92724   \n",
       "1  2024-01-01 00:01:00  42298.62  42320.00  42298.61  42320.00  21.16779   \n",
       "2  2024-01-01 00:02:00  42319.99  42331.54  42319.99  42325.50  21.60391   \n",
       "3  2024-01-01 00:03:00  42325.50  42368.00  42325.49  42367.99  30.50730   \n",
       "4  2024-01-01 00:04:00  42368.00  42397.23  42367.99  42397.23  46.05107   \n",
       "\n",
       "                close_time  quote_asset_volume  number_of_trades  \\\n",
       "0  2024-01-01 00:00:59.999        1.519032e+06              1327   \n",
       "1  2024-01-01 00:01:59.999        8.955809e+05              1348   \n",
       "2  2024-01-01 00:02:59.999        9.143711e+05              1019   \n",
       "3  2024-01-01 00:03:59.999        1.291997e+06              1241   \n",
       "4  2024-01-01 00:04:59.999        1.951945e+06              1415   \n",
       "\n",
       "   taker_buy_volume  ...  day_of_week  hour_of_day  ma_14        ema_14  \\\n",
       "0          23.18766  ...            0            0    NaN  42298.610000   \n",
       "1          13.47483  ...            0            0    NaN  42301.462000   \n",
       "2          11.21801  ...            0            0    NaN  42304.667067   \n",
       "3          24.04878  ...            0            0    NaN  42313.110124   \n",
       "4          34.12804  ...            0            0    NaN  42324.326108   \n",
       "\n",
       "   bb_upper  bb_lower  rsi_14  close_lag1  close_lag2  returns_1m  \n",
       "0       NaN       NaN     NaN         NaN         NaN         NaN  \n",
       "1       NaN       NaN     NaN    42298.61         NaN    0.000506  \n",
       "2       NaN       NaN     NaN    42320.00    42298.61    0.000130  \n",
       "3       NaN       NaN     NaN    42325.50    42320.00    0.001004  \n",
       "4       NaN       NaN     NaN    42367.99    42325.50    0.000690  \n",
       "\n",
       "[5 rows x 21 columns]"
      ]
     },
     "execution_count": 1,
     "metadata": {},
     "output_type": "execute_result"
    }
   ],
   "source": [
    "\n",
    "import pandas as pd\n",
    "import numpy as np\n",
    "import matplotlib.pyplot as plt\n",
    "\n",
    "# For the model\n",
    "from sklearn.ensemble import RandomForestClassifier\n",
    "from sklearn.model_selection import train_test_split\n",
    "from sklearn.metrics import accuracy_score, confusion_matrix, classification_report\n",
    "\n",
    "# 1) Load the feature-enhanced dataset\n",
    "df = pd.read_csv('../data/BTCUSDT_1m_features.csv')\n",
    "\n",
    "print(\"Data loaded. Here are the first 5 rows:\")\n",
    "df.head()\n"
   ]
  },
  {
   "cell_type": "markdown",
   "id": "70f9e51c",
   "metadata": {},
   "source": [
    "\n",
    "## 🏷️ 1. Defining Our Target Variable\n",
    "\n",
    "We want a simple target for now:\n",
    "- **`target` = 1 if next close price is higher than current close**, else 0.\n",
    "\n",
    "This is a classic **binary classification** approach: will the price go up or not?\n"
   ]
  },
  {
   "cell_type": "code",
   "execution_count": 2,
   "id": "951411cc",
   "metadata": {},
   "outputs": [
    {
     "data": {
      "text/html": [
       "<div>\n",
       "<style scoped>\n",
       "    .dataframe tbody tr th:only-of-type {\n",
       "        vertical-align: middle;\n",
       "    }\n",
       "\n",
       "    .dataframe tbody tr th {\n",
       "        vertical-align: top;\n",
       "    }\n",
       "\n",
       "    .dataframe thead th {\n",
       "        text-align: right;\n",
       "    }\n",
       "</style>\n",
       "<table border=\"1\" class=\"dataframe\">\n",
       "  <thead>\n",
       "    <tr style=\"text-align: right;\">\n",
       "      <th></th>\n",
       "      <th>close</th>\n",
       "      <th>future_close</th>\n",
       "      <th>target</th>\n",
       "    </tr>\n",
       "  </thead>\n",
       "  <tbody>\n",
       "    <tr>\n",
       "      <th>14989</th>\n",
       "      <td>46271.09</td>\n",
       "      <td>46280.01</td>\n",
       "      <td>1</td>\n",
       "    </tr>\n",
       "    <tr>\n",
       "      <th>14990</th>\n",
       "      <td>46280.01</td>\n",
       "      <td>46265.99</td>\n",
       "      <td>0</td>\n",
       "    </tr>\n",
       "    <tr>\n",
       "      <th>14991</th>\n",
       "      <td>46265.99</td>\n",
       "      <td>46248.36</td>\n",
       "      <td>0</td>\n",
       "    </tr>\n",
       "    <tr>\n",
       "      <th>14992</th>\n",
       "      <td>46248.36</td>\n",
       "      <td>46256.47</td>\n",
       "      <td>1</td>\n",
       "    </tr>\n",
       "    <tr>\n",
       "      <th>14993</th>\n",
       "      <td>46256.47</td>\n",
       "      <td>46227.44</td>\n",
       "      <td>0</td>\n",
       "    </tr>\n",
       "    <tr>\n",
       "      <th>14994</th>\n",
       "      <td>46227.44</td>\n",
       "      <td>46223.16</td>\n",
       "      <td>0</td>\n",
       "    </tr>\n",
       "    <tr>\n",
       "      <th>14995</th>\n",
       "      <td>46223.16</td>\n",
       "      <td>46220.65</td>\n",
       "      <td>0</td>\n",
       "    </tr>\n",
       "    <tr>\n",
       "      <th>14996</th>\n",
       "      <td>46220.65</td>\n",
       "      <td>46234.01</td>\n",
       "      <td>1</td>\n",
       "    </tr>\n",
       "    <tr>\n",
       "      <th>14997</th>\n",
       "      <td>46234.01</td>\n",
       "      <td>46249.18</td>\n",
       "      <td>1</td>\n",
       "    </tr>\n",
       "    <tr>\n",
       "      <th>14998</th>\n",
       "      <td>46249.18</td>\n",
       "      <td>46220.12</td>\n",
       "      <td>0</td>\n",
       "    </tr>\n",
       "  </tbody>\n",
       "</table>\n",
       "</div>"
      ],
      "text/plain": [
       "          close  future_close  target\n",
       "14989  46271.09      46280.01       1\n",
       "14990  46280.01      46265.99       0\n",
       "14991  46265.99      46248.36       0\n",
       "14992  46248.36      46256.47       1\n",
       "14993  46256.47      46227.44       0\n",
       "14994  46227.44      46223.16       0\n",
       "14995  46223.16      46220.65       0\n",
       "14996  46220.65      46234.01       1\n",
       "14997  46234.01      46249.18       1\n",
       "14998  46249.18      46220.12       0"
      ]
     },
     "execution_count": 2,
     "metadata": {},
     "output_type": "execute_result"
    }
   ],
   "source": [
    "\n",
    "# We'll shift the 'close' price by -1 to get the \"next\" bar's close\n",
    "df['future_close'] = df['close'].shift(-1)\n",
    "\n",
    "# Define target: 1 if future close > current close, else 0\n",
    "df['target'] = (df['future_close'] > df['close']).astype(int)\n",
    "\n",
    "# Drop rows with NaNs created by shifting (the very last row)\n",
    "df.dropna(subset=['future_close'], inplace=True)\n",
    "\n",
    "# Quick check\n",
    "df[['close','future_close','target']].tail(10)\n"
   ]
  },
  {
   "cell_type": "markdown",
   "id": "50588670",
   "metadata": {},
   "source": [
    "\n",
    "## 🌐 2. Selecting Features for the Model\n",
    "\n",
    "We'll pick columns that might help predict future price movements:\n",
    "- **Technical indicators** (ma_14, ema_14, rsi_14, etc.)\n",
    "- **Time-based** (day_of_week, hour_of_day)\n",
    "- **Lagged data** (close_lag1, etc.)\n",
    "- **Returns or volume**\n",
    "\n",
    "We exclude anything that leaks future info (like `future_close` itself) and also avoid the raw `close` if we prefer only derived features, but we can experiment.\n"
   ]
  },
  {
   "cell_type": "code",
   "execution_count": 3,
   "id": "3a6f74bf",
   "metadata": {},
   "outputs": [
    {
     "name": "stdout",
     "output_type": "stream",
     "text": [
      "Feature columns being used:\n",
      " ['ma_14', 'ema_14', 'bb_upper', 'bb_lower', 'rsi_14', 'close_lag1', 'close_lag2', 'returns_1m', 'day_of_week', 'hour_of_day', 'volume']\n",
      "X shape: (14999, 11), y shape: (14999,)\n"
     ]
    },
    {
     "data": {
      "text/html": [
       "<div>\n",
       "<style scoped>\n",
       "    .dataframe tbody tr th:only-of-type {\n",
       "        vertical-align: middle;\n",
       "    }\n",
       "\n",
       "    .dataframe tbody tr th {\n",
       "        vertical-align: top;\n",
       "    }\n",
       "\n",
       "    .dataframe thead th {\n",
       "        text-align: right;\n",
       "    }\n",
       "</style>\n",
       "<table border=\"1\" class=\"dataframe\">\n",
       "  <thead>\n",
       "    <tr style=\"text-align: right;\">\n",
       "      <th></th>\n",
       "      <th>ma_14</th>\n",
       "      <th>ema_14</th>\n",
       "      <th>bb_upper</th>\n",
       "      <th>bb_lower</th>\n",
       "      <th>rsi_14</th>\n",
       "      <th>close_lag1</th>\n",
       "      <th>close_lag2</th>\n",
       "      <th>returns_1m</th>\n",
       "      <th>day_of_week</th>\n",
       "      <th>hour_of_day</th>\n",
       "      <th>volume</th>\n",
       "    </tr>\n",
       "  </thead>\n",
       "  <tbody>\n",
       "    <tr>\n",
       "      <th>0</th>\n",
       "      <td>NaN</td>\n",
       "      <td>42298.610000</td>\n",
       "      <td>NaN</td>\n",
       "      <td>NaN</td>\n",
       "      <td>NaN</td>\n",
       "      <td>NaN</td>\n",
       "      <td>NaN</td>\n",
       "      <td>NaN</td>\n",
       "      <td>0</td>\n",
       "      <td>0</td>\n",
       "      <td>35.92724</td>\n",
       "    </tr>\n",
       "    <tr>\n",
       "      <th>1</th>\n",
       "      <td>NaN</td>\n",
       "      <td>42301.462000</td>\n",
       "      <td>NaN</td>\n",
       "      <td>NaN</td>\n",
       "      <td>NaN</td>\n",
       "      <td>42298.61</td>\n",
       "      <td>NaN</td>\n",
       "      <td>0.000506</td>\n",
       "      <td>0</td>\n",
       "      <td>0</td>\n",
       "      <td>21.16779</td>\n",
       "    </tr>\n",
       "    <tr>\n",
       "      <th>2</th>\n",
       "      <td>NaN</td>\n",
       "      <td>42304.667067</td>\n",
       "      <td>NaN</td>\n",
       "      <td>NaN</td>\n",
       "      <td>NaN</td>\n",
       "      <td>42320.00</td>\n",
       "      <td>42298.61</td>\n",
       "      <td>0.000130</td>\n",
       "      <td>0</td>\n",
       "      <td>0</td>\n",
       "      <td>21.60391</td>\n",
       "    </tr>\n",
       "    <tr>\n",
       "      <th>3</th>\n",
       "      <td>NaN</td>\n",
       "      <td>42313.110124</td>\n",
       "      <td>NaN</td>\n",
       "      <td>NaN</td>\n",
       "      <td>NaN</td>\n",
       "      <td>42325.50</td>\n",
       "      <td>42320.00</td>\n",
       "      <td>0.001004</td>\n",
       "      <td>0</td>\n",
       "      <td>0</td>\n",
       "      <td>30.50730</td>\n",
       "    </tr>\n",
       "    <tr>\n",
       "      <th>4</th>\n",
       "      <td>NaN</td>\n",
       "      <td>42324.326108</td>\n",
       "      <td>NaN</td>\n",
       "      <td>NaN</td>\n",
       "      <td>NaN</td>\n",
       "      <td>42367.99</td>\n",
       "      <td>42325.50</td>\n",
       "      <td>0.000690</td>\n",
       "      <td>0</td>\n",
       "      <td>0</td>\n",
       "      <td>46.05107</td>\n",
       "    </tr>\n",
       "  </tbody>\n",
       "</table>\n",
       "</div>"
      ],
      "text/plain": [
       "   ma_14        ema_14  bb_upper  bb_lower  rsi_14  close_lag1  close_lag2  \\\n",
       "0    NaN  42298.610000       NaN       NaN     NaN         NaN         NaN   \n",
       "1    NaN  42301.462000       NaN       NaN     NaN    42298.61         NaN   \n",
       "2    NaN  42304.667067       NaN       NaN     NaN    42320.00    42298.61   \n",
       "3    NaN  42313.110124       NaN       NaN     NaN    42325.50    42320.00   \n",
       "4    NaN  42324.326108       NaN       NaN     NaN    42367.99    42325.50   \n",
       "\n",
       "   returns_1m  day_of_week  hour_of_day    volume  \n",
       "0         NaN            0            0  35.92724  \n",
       "1    0.000506            0            0  21.16779  \n",
       "2    0.000130            0            0  21.60391  \n",
       "3    0.001004            0            0  30.50730  \n",
       "4    0.000690            0            0  46.05107  "
      ]
     },
     "execution_count": 3,
     "metadata": {},
     "output_type": "execute_result"
    }
   ],
   "source": [
    "\n",
    "# Let's define a list of feature columns we want to use\n",
    "feature_cols = [\n",
    "    'ma_14','ema_14','bb_upper','bb_lower','rsi_14',\n",
    "    'close_lag1','close_lag2','returns_1m',\n",
    "    'day_of_week','hour_of_day','volume'\n",
    "]\n",
    "\n",
    "# Some columns might not exist if you removed or changed them\n",
    "# We'll drop missing columns to avoid errors\n",
    "available_cols = [c for c in feature_cols if c in df.columns]\n",
    "X = df[available_cols].copy()\n",
    "\n",
    "print(\"Feature columns being used:\\n\", available_cols)\n",
    "\n",
    "# The target\n",
    "y = df['target']\n",
    "\n",
    "print(f\"X shape: {X.shape}, y shape: {y.shape}\")\n",
    "X.head()\n"
   ]
  },
  {
   "cell_type": "markdown",
   "id": "bca3e1d4",
   "metadata": {},
   "source": [
    "\n",
    "## 🧪 3. Splitting the Data into Train and Test\n",
    "\n",
    "We’ll do a simple time-based split:\n",
    "- Because it's time-series data, we must be careful about random splits that mix future data with past data.\n",
    "- For a quick approach, we can do a normal `train_test_split` but **shuffle=False** to keep the time order.\n",
    "\n",
    "Note: For advanced trading, you might do a more careful walk-forward split or time series split.\n"
   ]
  },
  {
   "cell_type": "code",
   "execution_count": 4,
   "id": "80f1c412",
   "metadata": {},
   "outputs": [
    {
     "name": "stdout",
     "output_type": "stream",
     "text": [
      "Train set size: 11984\n",
      "Test set size: 2996\n"
     ]
    }
   ],
   "source": [
    "\n",
    "# Drop rows with any missing features\n",
    "X = X.dropna()\n",
    "y = y[X.index]  # Align target with dropped rows\n",
    "\n",
    "X_train, X_test, y_train, y_test = train_test_split(\n",
    "    X, \n",
    "    y, \n",
    "    test_size=0.2, \n",
    "    shuffle=False  # preserve time order\n",
    ")\n",
    "\n",
    "print(\"Train set size:\", X_train.shape[0])\n",
    "print(\"Test set size:\", X_test.shape[0])\n"
   ]
  },
  {
   "cell_type": "markdown",
   "id": "f96bc7ef-c7a4-4db1-80a6-121a1a2d2bae",
   "metadata": {},
   "source": [
    "4 - Building neural network using tensorFlow"
   ]
  },
  {
   "cell_type": "code",
   "execution_count": 5,
   "id": "981991d7-536e-4641-891f-91161d43b2bc",
   "metadata": {},
   "outputs": [
    {
     "name": "stderr",
     "output_type": "stream",
     "text": [
      "/Users/elianhaddad/personal-projects/ia-developer/AI-Trading-Bot/venv/lib/python3.10/site-packages/keras/src/layers/core/dense.py:87: UserWarning: Do not pass an `input_shape`/`input_dim` argument to a layer. When using Sequential models, prefer using an `Input(shape)` object as the first layer in the model instead.\n",
      "  super().__init__(activity_regularizer=activity_regularizer, **kwargs)\n"
     ]
    },
    {
     "data": {
      "text/html": [
       "<pre style=\"white-space:pre;overflow-x:auto;line-height:normal;font-family:Menlo,'DejaVu Sans Mono',consolas,'Courier New',monospace\"><span style=\"font-weight: bold\">Model: \"sequential\"</span>\n",
       "</pre>\n"
      ],
      "text/plain": [
       "\u001b[1mModel: \"sequential\"\u001b[0m\n"
      ]
     },
     "metadata": {},
     "output_type": "display_data"
    },
    {
     "data": {
      "text/html": [
       "<pre style=\"white-space:pre;overflow-x:auto;line-height:normal;font-family:Menlo,'DejaVu Sans Mono',consolas,'Courier New',monospace\">┏━━━━━━━━━━━━━━━━━━━━━━━━━━━━━━━━━┳━━━━━━━━━━━━━━━━━━━━━━━━┳━━━━━━━━━━━━━━━┓\n",
       "┃<span style=\"font-weight: bold\"> Layer (type)                    </span>┃<span style=\"font-weight: bold\"> Output Shape           </span>┃<span style=\"font-weight: bold\">       Param # </span>┃\n",
       "┡━━━━━━━━━━━━━━━━━━━━━━━━━━━━━━━━━╇━━━━━━━━━━━━━━━━━━━━━━━━╇━━━━━━━━━━━━━━━┩\n",
       "│ dense (<span style=\"color: #0087ff; text-decoration-color: #0087ff\">Dense</span>)                   │ (<span style=\"color: #00d7ff; text-decoration-color: #00d7ff\">None</span>, <span style=\"color: #00af00; text-decoration-color: #00af00\">64</span>)             │           <span style=\"color: #00af00; text-decoration-color: #00af00\">768</span> │\n",
       "├─────────────────────────────────┼────────────────────────┼───────────────┤\n",
       "│ dense_1 (<span style=\"color: #0087ff; text-decoration-color: #0087ff\">Dense</span>)                 │ (<span style=\"color: #00d7ff; text-decoration-color: #00d7ff\">None</span>, <span style=\"color: #00af00; text-decoration-color: #00af00\">32</span>)             │         <span style=\"color: #00af00; text-decoration-color: #00af00\">2,080</span> │\n",
       "├─────────────────────────────────┼────────────────────────┼───────────────┤\n",
       "│ dense_2 (<span style=\"color: #0087ff; text-decoration-color: #0087ff\">Dense</span>)                 │ (<span style=\"color: #00d7ff; text-decoration-color: #00d7ff\">None</span>, <span style=\"color: #00af00; text-decoration-color: #00af00\">1</span>)              │            <span style=\"color: #00af00; text-decoration-color: #00af00\">33</span> │\n",
       "└─────────────────────────────────┴────────────────────────┴───────────────┘\n",
       "</pre>\n"
      ],
      "text/plain": [
       "┏━━━━━━━━━━━━━━━━━━━━━━━━━━━━━━━━━┳━━━━━━━━━━━━━━━━━━━━━━━━┳━━━━━━━━━━━━━━━┓\n",
       "┃\u001b[1m \u001b[0m\u001b[1mLayer (type)                   \u001b[0m\u001b[1m \u001b[0m┃\u001b[1m \u001b[0m\u001b[1mOutput Shape          \u001b[0m\u001b[1m \u001b[0m┃\u001b[1m \u001b[0m\u001b[1m      Param #\u001b[0m\u001b[1m \u001b[0m┃\n",
       "┡━━━━━━━━━━━━━━━━━━━━━━━━━━━━━━━━━╇━━━━━━━━━━━━━━━━━━━━━━━━╇━━━━━━━━━━━━━━━┩\n",
       "│ dense (\u001b[38;5;33mDense\u001b[0m)                   │ (\u001b[38;5;45mNone\u001b[0m, \u001b[38;5;34m64\u001b[0m)             │           \u001b[38;5;34m768\u001b[0m │\n",
       "├─────────────────────────────────┼────────────────────────┼───────────────┤\n",
       "│ dense_1 (\u001b[38;5;33mDense\u001b[0m)                 │ (\u001b[38;5;45mNone\u001b[0m, \u001b[38;5;34m32\u001b[0m)             │         \u001b[38;5;34m2,080\u001b[0m │\n",
       "├─────────────────────────────────┼────────────────────────┼───────────────┤\n",
       "│ dense_2 (\u001b[38;5;33mDense\u001b[0m)                 │ (\u001b[38;5;45mNone\u001b[0m, \u001b[38;5;34m1\u001b[0m)              │            \u001b[38;5;34m33\u001b[0m │\n",
       "└─────────────────────────────────┴────────────────────────┴───────────────┘\n"
      ]
     },
     "metadata": {},
     "output_type": "display_data"
    },
    {
     "data": {
      "text/html": [
       "<pre style=\"white-space:pre;overflow-x:auto;line-height:normal;font-family:Menlo,'DejaVu Sans Mono',consolas,'Courier New',monospace\"><span style=\"font-weight: bold\"> Total params: </span><span style=\"color: #00af00; text-decoration-color: #00af00\">2,881</span> (11.25 KB)\n",
       "</pre>\n"
      ],
      "text/plain": [
       "\u001b[1m Total params: \u001b[0m\u001b[38;5;34m2,881\u001b[0m (11.25 KB)\n"
      ]
     },
     "metadata": {},
     "output_type": "display_data"
    },
    {
     "data": {
      "text/html": [
       "<pre style=\"white-space:pre;overflow-x:auto;line-height:normal;font-family:Menlo,'DejaVu Sans Mono',consolas,'Courier New',monospace\"><span style=\"font-weight: bold\"> Trainable params: </span><span style=\"color: #00af00; text-decoration-color: #00af00\">2,881</span> (11.25 KB)\n",
       "</pre>\n"
      ],
      "text/plain": [
       "\u001b[1m Trainable params: \u001b[0m\u001b[38;5;34m2,881\u001b[0m (11.25 KB)\n"
      ]
     },
     "metadata": {},
     "output_type": "display_data"
    },
    {
     "data": {
      "text/html": [
       "<pre style=\"white-space:pre;overflow-x:auto;line-height:normal;font-family:Menlo,'DejaVu Sans Mono',consolas,'Courier New',monospace\"><span style=\"font-weight: bold\"> Non-trainable params: </span><span style=\"color: #00af00; text-decoration-color: #00af00\">0</span> (0.00 B)\n",
       "</pre>\n"
      ],
      "text/plain": [
       "\u001b[1m Non-trainable params: \u001b[0m\u001b[38;5;34m0\u001b[0m (0.00 B)\n"
      ]
     },
     "metadata": {},
     "output_type": "display_data"
    }
   ],
   "source": [
    "# 1. Import TensorFlow and Keras\n",
    "import tensorflow as tf\n",
    "from tensorflow import keras\n",
    "from tensorflow.keras import layers\n",
    "\n",
    "# 2. Build the model\n",
    "model = keras.Sequential([\n",
    "    layers.Dense(64, activation='relu', input_shape=(X_train.shape[1],)),\n",
    "    layers.Dense(32, activation='relu'),\n",
    "    layers.Dense(1, activation='sigmoid')  # sigmoid because it's binary classification (buy/sell)\n",
    "])\n",
    "\n",
    "# 3. Compile the model\n",
    "model.compile(\n",
    "    optimizer='adam',\n",
    "    loss='binary_crossentropy',\n",
    "    metrics=['accuracy']\n",
    ")\n",
    "\n",
    "# 4. Summary of the model\n",
    "model.summary()"
   ]
  },
  {
   "cell_type": "code",
   "execution_count": 6,
   "id": "a686064e-9f48-4384-8240-8de04057b9de",
   "metadata": {},
   "outputs": [
    {
     "name": "stdout",
     "output_type": "stream",
     "text": [
      "Epoch 1/20\n",
      "\u001b[1m375/375\u001b[0m \u001b[32m━━━━━━━━━━━━━━━━━━━━\u001b[0m\u001b[37m\u001b[0m \u001b[1m1s\u001b[0m 600us/step - accuracy: 0.5026 - loss: 937.6115\n",
      "Epoch 2/20\n",
      "\u001b[1m375/375\u001b[0m \u001b[32m━━━━━━━━━━━━━━━━━━━━\u001b[0m\u001b[37m\u001b[0m \u001b[1m0s\u001b[0m 560us/step - accuracy: 0.5007 - loss: 188.0192\n",
      "Epoch 3/20\n",
      "\u001b[1m375/375\u001b[0m \u001b[32m━━━━━━━━━━━━━━━━━━━━\u001b[0m\u001b[37m\u001b[0m \u001b[1m0s\u001b[0m 638us/step - accuracy: 0.4947 - loss: 196.8299\n",
      "Epoch 4/20\n",
      "\u001b[1m375/375\u001b[0m \u001b[32m━━━━━━━━━━━━━━━━━━━━\u001b[0m\u001b[37m\u001b[0m \u001b[1m0s\u001b[0m 602us/step - accuracy: 0.5121 - loss: 170.9989\n",
      "Epoch 5/20\n",
      "\u001b[1m375/375\u001b[0m \u001b[32m━━━━━━━━━━━━━━━━━━━━\u001b[0m\u001b[37m\u001b[0m \u001b[1m0s\u001b[0m 558us/step - accuracy: 0.5023 - loss: 153.3513\n",
      "Epoch 6/20\n",
      "\u001b[1m375/375\u001b[0m \u001b[32m━━━━━━━━━━━━━━━━━━━━\u001b[0m\u001b[37m\u001b[0m \u001b[1m0s\u001b[0m 596us/step - accuracy: 0.5065 - loss: 110.0172\n",
      "Epoch 7/20\n",
      "\u001b[1m375/375\u001b[0m \u001b[32m━━━━━━━━━━━━━━━━━━━━\u001b[0m\u001b[37m\u001b[0m \u001b[1m0s\u001b[0m 678us/step - accuracy: 0.4992 - loss: 106.2821\n",
      "Epoch 8/20\n",
      "\u001b[1m375/375\u001b[0m \u001b[32m━━━━━━━━━━━━━━━━━━━━\u001b[0m\u001b[37m\u001b[0m \u001b[1m0s\u001b[0m 576us/step - accuracy: 0.4953 - loss: 131.4264\n",
      "Epoch 9/20\n",
      "\u001b[1m375/375\u001b[0m \u001b[32m━━━━━━━━━━━━━━━━━━━━\u001b[0m\u001b[37m\u001b[0m \u001b[1m0s\u001b[0m 546us/step - accuracy: 0.5012 - loss: 114.8718\n",
      "Epoch 10/20\n",
      "\u001b[1m375/375\u001b[0m \u001b[32m━━━━━━━━━━━━━━━━━━━━\u001b[0m\u001b[37m\u001b[0m \u001b[1m0s\u001b[0m 540us/step - accuracy: 0.5069 - loss: 85.3822\n",
      "Epoch 11/20\n",
      "\u001b[1m375/375\u001b[0m \u001b[32m━━━━━━━━━━━━━━━━━━━━\u001b[0m\u001b[37m\u001b[0m \u001b[1m0s\u001b[0m 587us/step - accuracy: 0.4908 - loss: 91.0617\n",
      "Epoch 12/20\n",
      "\u001b[1m375/375\u001b[0m \u001b[32m━━━━━━━━━━━━━━━━━━━━\u001b[0m\u001b[37m\u001b[0m \u001b[1m0s\u001b[0m 583us/step - accuracy: 0.5089 - loss: 118.0462\n",
      "Epoch 13/20\n",
      "\u001b[1m375/375\u001b[0m \u001b[32m━━━━━━━━━━━━━━━━━━━━\u001b[0m\u001b[37m\u001b[0m \u001b[1m0s\u001b[0m 564us/step - accuracy: 0.5096 - loss: 69.9090\n",
      "Epoch 14/20\n",
      "\u001b[1m375/375\u001b[0m \u001b[32m━━━━━━━━━━━━━━━━━━━━\u001b[0m\u001b[37m\u001b[0m \u001b[1m0s\u001b[0m 571us/step - accuracy: 0.5032 - loss: 61.2177\n",
      "Epoch 15/20\n",
      "\u001b[1m375/375\u001b[0m \u001b[32m━━━━━━━━━━━━━━━━━━━━\u001b[0m\u001b[37m\u001b[0m \u001b[1m0s\u001b[0m 588us/step - accuracy: 0.4984 - loss: 89.8955\n",
      "Epoch 16/20\n",
      "\u001b[1m375/375\u001b[0m \u001b[32m━━━━━━━━━━━━━━━━━━━━\u001b[0m\u001b[37m\u001b[0m \u001b[1m0s\u001b[0m 643us/step - accuracy: 0.5044 - loss: 75.7573\n",
      "Epoch 17/20\n",
      "\u001b[1m375/375\u001b[0m \u001b[32m━━━━━━━━━━━━━━━━━━━━\u001b[0m\u001b[37m\u001b[0m \u001b[1m0s\u001b[0m 594us/step - accuracy: 0.4983 - loss: 60.8821\n",
      "Epoch 18/20\n",
      "\u001b[1m375/375\u001b[0m \u001b[32m━━━━━━━━━━━━━━━━━━━━\u001b[0m\u001b[37m\u001b[0m \u001b[1m0s\u001b[0m 559us/step - accuracy: 0.4961 - loss: 70.1844\n",
      "Epoch 19/20\n",
      "\u001b[1m375/375\u001b[0m \u001b[32m━━━━━━━━━━━━━━━━━━━━\u001b[0m\u001b[37m\u001b[0m \u001b[1m0s\u001b[0m 564us/step - accuracy: 0.5075 - loss: 46.0772\n",
      "Epoch 20/20\n",
      "\u001b[1m375/375\u001b[0m \u001b[32m━━━━━━━━━━━━━━━━━━━━\u001b[0m\u001b[37m\u001b[0m \u001b[1m0s\u001b[0m 551us/step - accuracy: 0.5122 - loss: 52.5347\n"
     ]
    }
   ],
   "source": [
    "history = model.fit(\n",
    "    X_train,\n",
    "    y_train,\n",
    "    epochs=20,\n",
    "    batch_size=32\n",
    ")"
   ]
  },
  {
   "cell_type": "code",
   "execution_count": 7,
   "id": "126e9004-2fb9-4dab-bc8b-09d5acb92df6",
   "metadata": {},
   "outputs": [
    {
     "data": {
      "image/png": "[encoded data removed]",
      "text/plain": [
       "<Figure size 640x480 with 1 Axes>"
      ]
     },
     "metadata": {},
     "output_type": "display_data"
    },
    {
     "data": {
      "image/png": "[encoded data removed]",
      "text/plain": [
       "<Figure size 640x480 with 1 Axes>"
      ]
     },
     "metadata": {},
     "output_type": "display_data"
    }
   ],
   "source": [
    "import matplotlib.pyplot as plt\n",
    "\n",
    "# Plot training loss\n",
    "plt.plot(history.history['loss'])\n",
    "plt.title('Model Loss')\n",
    "plt.ylabel('Loss')\n",
    "plt.xlabel('Epoch')\n",
    "plt.grid()\n",
    "plt.show()\n",
    "\n",
    "# Plot training accuracy\n",
    "plt.plot(history.history['accuracy'])\n",
    "plt.title('Model Accuracy')\n",
    "plt.ylabel('Accuracy')\n",
    "plt.xlabel('Epoch')\n",
    "plt.grid()\n",
    "plt.show()"
   ]
  },
  {
   "cell_type": "code",
   "execution_count": 8,
   "id": "c1ce5c0d-b849-4c9f-9c85-d315628d4669",
   "metadata": {},
   "outputs": [],
   "source": [
    "model.save('btc_trading_model.keras')"
   ]
  },
  {
   "cell_type": "code",
   "execution_count": 9,
   "id": "01b6ea3e-dc74-4140-80aa-2bd6ec4bf28d",
   "metadata": {},
   "outputs": [
    {
     "name": "stdout",
     "output_type": "stream",
     "text": [
      "\u001b[1m94/94\u001b[0m \u001b[32m━━━━━━━━━━━━━━━━━━━━\u001b[0m\u001b[37m\u001b[0m \u001b[1m0s\u001b[0m 761us/step - accuracy: 0.4891 - loss: 6.8847\n",
      "Test Loss: 6.9848\n",
      "Test Accuracy: 0.4866\n"
     ]
    }
   ],
   "source": [
    "# Evaluate the model on the test set\n",
    "test_loss, test_accuracy = model.evaluate(X_test, y_test)\n",
    "\n",
    "print(f\"Test Loss: {test_loss:.4f}\")\n",
    "print(f\"Test Accuracy: {test_accuracy:.4f}\")"
   ]
  },
  {
   "cell_type": "code",
   "execution_count": 10,
   "id": "7b4935b8-021a-4458-9d03-f61cd6e0aafd",
   "metadata": {},
   "outputs": [
    {
     "name": "stdout",
     "output_type": "stream",
     "text": [
      "New Train shape: (10785, 11)\n",
      "Validation shape: (1199, 11)\n"
     ]
    }
   ],
   "source": [
    "from sklearn.model_selection import train_test_split\n",
    "\n",
    "# Split the current X_train into a smaller train and validation set\n",
    "X_train, X_val, y_train, y_val = train_test_split(\n",
    "    X_train, y_train, \n",
    "    test_size=0.1,  # 10% for validation\n",
    "    shuffle=False   # important: keep the time order!\n",
    ")\n",
    "\n",
    "print(f\"New Train shape: {X_train.shape}\")\n",
    "print(f\"Validation shape: {X_val.shape}\")"
   ]
  },
  {
   "cell_type": "code",
   "execution_count": 11,
   "id": "089f48db-e511-49a1-bd7c-977d48544ce5",
   "metadata": {},
   "outputs": [
    {
     "name": "stdout",
     "output_type": "stream",
     "text": [
      "Epoch 1/20\n",
      "\u001b[1m338/338\u001b[0m \u001b[32m━━━━━━━━━━━━━━━━━━━━\u001b[0m\u001b[37m\u001b[0m \u001b[1m0s\u001b[0m 835us/step - accuracy: 0.5023 - loss: 66.0534 - val_accuracy: 0.5096 - val_loss: 40.1072\n",
      "Epoch 2/20\n",
      "\u001b[1m338/338\u001b[0m \u001b[32m━━━━━━━━━━━━━━━━━━━━\u001b[0m\u001b[37m\u001b[0m \u001b[1m0s\u001b[0m 675us/step - accuracy: 0.4917 - loss: 53.9734 - val_accuracy: 0.5096 - val_loss: 61.7180\n",
      "Epoch 3/20\n",
      "\u001b[1m338/338\u001b[0m \u001b[32m━━━━━━━━━━━━━━━━━━━━\u001b[0m\u001b[37m\u001b[0m \u001b[1m0s\u001b[0m 775us/step - accuracy: 0.4890 - loss: 53.8519 - val_accuracy: 0.4904 - val_loss: 70.3023\n",
      "Epoch 4/20\n",
      "\u001b[1m338/338\u001b[0m \u001b[32m━━━━━━━━━━━━━━━━━━━━\u001b[0m\u001b[37m\u001b[0m \u001b[1m0s\u001b[0m 674us/step - accuracy: 0.5036 - loss: 41.5108 - val_accuracy: 0.5088 - val_loss: 5.3461\n",
      "Epoch 5/20\n",
      "\u001b[1m338/338\u001b[0m \u001b[32m━━━━━━━━━━━━━━━━━━━━\u001b[0m\u001b[37m\u001b[0m \u001b[1m0s\u001b[0m 672us/step - accuracy: 0.4904 - loss: 42.0289 - val_accuracy: 0.4904 - val_loss: 112.4971\n",
      "Epoch 6/20\n",
      "\u001b[1m338/338\u001b[0m \u001b[32m━━━━━━━━━━━━━━━━━━━━\u001b[0m\u001b[37m\u001b[0m \u001b[1m0s\u001b[0m 679us/step - accuracy: 0.5040 - loss: 77.1390 - val_accuracy: 0.5096 - val_loss: 54.0144\n",
      "Epoch 7/20\n",
      "\u001b[1m338/338\u001b[0m \u001b[32m━━━━━━━━━━━━━━━━━━━━\u001b[0m\u001b[37m\u001b[0m \u001b[1m0s\u001b[0m 663us/step - accuracy: 0.5000 - loss: 41.2205 - val_accuracy: 0.5096 - val_loss: 67.5693\n",
      "Epoch 8/20\n",
      "\u001b[1m338/338\u001b[0m \u001b[32m━━━━━━━━━━━━━━━━━━━━\u001b[0m\u001b[37m\u001b[0m \u001b[1m0s\u001b[0m 690us/step - accuracy: 0.5014 - loss: 30.3501 - val_accuracy: 0.4912 - val_loss: 25.3823\n",
      "Epoch 9/20\n",
      "\u001b[1m338/338\u001b[0m \u001b[32m━━━━━━━━━━━━━━━━━━━━\u001b[0m\u001b[37m\u001b[0m \u001b[1m0s\u001b[0m 665us/step - accuracy: 0.4925 - loss: 31.4947 - val_accuracy: 0.5096 - val_loss: 58.2191\n",
      "Epoch 10/20\n",
      "\u001b[1m338/338\u001b[0m \u001b[32m━━━━━━━━━━━━━━━━━━━━\u001b[0m\u001b[37m\u001b[0m \u001b[1m0s\u001b[0m 700us/step - accuracy: 0.4898 - loss: 33.2354 - val_accuracy: 0.5096 - val_loss: 91.0931\n",
      "Epoch 11/20\n",
      "\u001b[1m338/338\u001b[0m \u001b[32m━━━━━━━━━━━━━━━━━━━━\u001b[0m\u001b[37m\u001b[0m \u001b[1m0s\u001b[0m 708us/step - accuracy: 0.4960 - loss: 61.4866 - val_accuracy: 0.5096 - val_loss: 9.5392\n",
      "Epoch 12/20\n",
      "\u001b[1m338/338\u001b[0m \u001b[32m━━━━━━━━━━━━━━━━━━━━\u001b[0m\u001b[37m\u001b[0m \u001b[1m0s\u001b[0m 726us/step - accuracy: 0.4987 - loss: 34.7192 - val_accuracy: 0.4946 - val_loss: 2.3289\n",
      "Epoch 13/20\n",
      "\u001b[1m338/338\u001b[0m \u001b[32m━━━━━━━━━━━━━━━━━━━━\u001b[0m\u001b[37m\u001b[0m \u001b[1m0s\u001b[0m 691us/step - accuracy: 0.5118 - loss: 26.0850 - val_accuracy: 0.4904 - val_loss: 31.1098\n",
      "Epoch 14/20\n",
      "\u001b[1m338/338\u001b[0m \u001b[32m━━━━━━━━━━━━━━━━━━━━\u001b[0m\u001b[37m\u001b[0m \u001b[1m0s\u001b[0m 668us/step - accuracy: 0.4967 - loss: 21.1896 - val_accuracy: 0.4862 - val_loss: 4.3691\n",
      "Epoch 15/20\n",
      "\u001b[1m338/338\u001b[0m \u001b[32m━━━━━━━━━━━━━━━━━━━━\u001b[0m\u001b[37m\u001b[0m \u001b[1m0s\u001b[0m 754us/step - accuracy: 0.4920 - loss: 29.4761 - val_accuracy: 0.4904 - val_loss: 41.9344\n",
      "Epoch 16/20\n",
      "\u001b[1m338/338\u001b[0m \u001b[32m━━━━━━━━━━━━━━━━━━━━\u001b[0m\u001b[37m\u001b[0m \u001b[1m0s\u001b[0m 681us/step - accuracy: 0.5026 - loss: 38.4845 - val_accuracy: 0.5096 - val_loss: 35.6029\n",
      "Epoch 17/20\n",
      "\u001b[1m338/338\u001b[0m \u001b[32m━━━━━━━━━━━━━━━━━━━━\u001b[0m\u001b[37m\u001b[0m \u001b[1m0s\u001b[0m 682us/step - accuracy: 0.5061 - loss: 17.1323 - val_accuracy: 0.5096 - val_loss: 4.4561\n",
      "Epoch 18/20\n",
      "\u001b[1m338/338\u001b[0m \u001b[32m━━━━━━━━━━━━━━━━━━━━\u001b[0m\u001b[37m\u001b[0m \u001b[1m0s\u001b[0m 670us/step - accuracy: 0.5021 - loss: 25.9028 - val_accuracy: 0.5096 - val_loss: 32.8225\n",
      "Epoch 19/20\n",
      "\u001b[1m338/338\u001b[0m \u001b[32m━━━━━━━━━━━━━━━━━━━━\u001b[0m\u001b[37m\u001b[0m \u001b[1m0s\u001b[0m 695us/step - accuracy: 0.4927 - loss: 17.6591 - val_accuracy: 0.5096 - val_loss: 14.1666\n",
      "Epoch 20/20\n",
      "\u001b[1m338/338\u001b[0m \u001b[32m━━━━━━━━━━━━━━━━━━━━\u001b[0m\u001b[37m\u001b[0m \u001b[1m0s\u001b[0m 673us/step - accuracy: 0.5010 - loss: 14.0634 - val_accuracy: 0.4912 - val_loss: 17.4173\n"
     ]
    }
   ],
   "source": [
    "# Retrain the model with validation data\n",
    "history = model.fit(\n",
    "    X_train,\n",
    "    y_train,\n",
    "    epochs=20,\n",
    "    batch_size=32,\n",
    "    validation_data=(X_val, y_val)\n",
    ")"
   ]
  },
  {
   "cell_type": "code",
   "execution_count": 12,
   "id": "f87d519f-be5d-4885-b238-82727a2b2f8a",
   "metadata": {},
   "outputs": [
    {
     "name": "stdout",
     "output_type": "stream",
     "text": [
      "Scaling complete! Shapes:\n",
      "X_train_scaled: (10785, 11)\n",
      "X_val_scaled: (1199, 11)\n",
      "X_test_scaled: (2996, 11)\n"
     ]
    }
   ],
   "source": [
    "from sklearn.preprocessing import StandardScaler\n",
    "\n",
    "# 1. Create a scaler\n",
    "scaler = StandardScaler()\n",
    "\n",
    "# 2. Fit the scaler ONLY on training data\n",
    "scaler.fit(X_train)\n",
    "\n",
    "# 3. Transform training, validation, and test data\n",
    "X_train_scaled = scaler.transform(X_train)\n",
    "X_val_scaled = scaler.transform(X_val)\n",
    "X_test_scaled = scaler.transform(X_test)\n",
    "\n",
    "print(\"Scaling complete! Shapes:\")\n",
    "print(f\"X_train_scaled: {X_train_scaled.shape}\")\n",
    "print(f\"X_val_scaled: {X_val_scaled.shape}\")\n",
    "print(f\"X_test_scaled: {X_test_scaled.shape}\")"
   ]
  },
  {
   "cell_type": "code",
   "execution_count": 13,
   "id": "408ea649-f0db-4659-abce-4e7f8bfa96d6",
   "metadata": {},
   "outputs": [
    {
     "name": "stdout",
     "output_type": "stream",
     "text": [
      "Epoch 1/20\n"
     ]
    },
    {
     "name": "stderr",
     "output_type": "stream",
     "text": [
      "/Users/elianhaddad/personal-projects/ia-developer/AI-Trading-Bot/venv/lib/python3.10/site-packages/keras/src/layers/core/dense.py:87: UserWarning: Do not pass an `input_shape`/`input_dim` argument to a layer. When using Sequential models, prefer using an `Input(shape)` object as the first layer in the model instead.\n",
      "  super().__init__(activity_regularizer=activity_regularizer, **kwargs)\n"
     ]
    },
    {
     "name": "stdout",
     "output_type": "stream",
     "text": [
      "\u001b[1m338/338\u001b[0m \u001b[32m━━━━━━━━━━━━━━━━━━━━\u001b[0m\u001b[37m\u001b[0m \u001b[1m1s\u001b[0m 992us/step - accuracy: 0.5019 - loss: 0.6992 - val_accuracy: 0.4837 - val_loss: 0.7013\n",
      "Epoch 2/20\n",
      "\u001b[1m338/338\u001b[0m \u001b[32m━━━━━━━━━━━━━━━━━━━━\u001b[0m\u001b[37m\u001b[0m \u001b[1m0s\u001b[0m 704us/step - accuracy: 0.5252 - loss: 0.6917 - val_accuracy: 0.5138 - val_loss: 0.6946\n",
      "Epoch 3/20\n",
      "\u001b[1m338/338\u001b[0m \u001b[32m━━━━━━━━━━━━━━━━━━━━\u001b[0m\u001b[37m\u001b[0m \u001b[1m0s\u001b[0m 706us/step - accuracy: 0.5288 - loss: 0.6912 - val_accuracy: 0.5196 - val_loss: 0.6945\n",
      "Epoch 4/20\n",
      "\u001b[1m338/338\u001b[0m \u001b[32m━━━━━━━━━━━━━━━━━━━━\u001b[0m\u001b[37m\u001b[0m \u001b[1m0s\u001b[0m 737us/step - accuracy: 0.5285 - loss: 0.6906 - val_accuracy: 0.4862 - val_loss: 0.7034\n",
      "Epoch 5/20\n",
      "\u001b[1m338/338\u001b[0m \u001b[32m━━━━━━━━━━━━━━━━━━━━\u001b[0m\u001b[37m\u001b[0m \u001b[1m0s\u001b[0m 672us/step - accuracy: 0.5247 - loss: 0.6899 - val_accuracy: 0.5071 - val_loss: 0.6996\n",
      "Epoch 6/20\n",
      "\u001b[1m338/338\u001b[0m \u001b[32m━━━━━━━━━━━━━━━━━━━━\u001b[0m\u001b[37m\u001b[0m \u001b[1m0s\u001b[0m 760us/step - accuracy: 0.5356 - loss: 0.6898 - val_accuracy: 0.5104 - val_loss: 0.7005\n",
      "Epoch 7/20\n",
      "\u001b[1m338/338\u001b[0m \u001b[32m━━━━━━━━━━━━━━━━━━━━\u001b[0m\u001b[37m\u001b[0m \u001b[1m0s\u001b[0m 676us/step - accuracy: 0.5380 - loss: 0.6891 - val_accuracy: 0.4996 - val_loss: 0.7139\n",
      "Epoch 8/20\n",
      "\u001b[1m338/338\u001b[0m \u001b[32m━━━━━━━━━━━━━━━━━━━━\u001b[0m\u001b[37m\u001b[0m \u001b[1m0s\u001b[0m 710us/step - accuracy: 0.5328 - loss: 0.6898 - val_accuracy: 0.5171 - val_loss: 0.7060\n",
      "Epoch 9/20\n",
      "\u001b[1m338/338\u001b[0m \u001b[32m━━━━━━━━━━━━━━━━━━━━\u001b[0m\u001b[37m\u001b[0m \u001b[1m0s\u001b[0m 674us/step - accuracy: 0.5405 - loss: 0.6876 - val_accuracy: 0.5129 - val_loss: 0.7126\n",
      "Epoch 10/20\n",
      "\u001b[1m338/338\u001b[0m \u001b[32m━━━━━━━━━━━━━━━━━━━━\u001b[0m\u001b[37m\u001b[0m \u001b[1m0s\u001b[0m 676us/step - accuracy: 0.5445 - loss: 0.6881 - val_accuracy: 0.5038 - val_loss: 0.7010\n",
      "Epoch 11/20\n",
      "\u001b[1m338/338\u001b[0m \u001b[32m━━━━━━━━━━━━━━━━━━━━\u001b[0m\u001b[37m\u001b[0m \u001b[1m0s\u001b[0m 676us/step - accuracy: 0.5381 - loss: 0.6873 - val_accuracy: 0.5121 - val_loss: 0.7020\n",
      "Epoch 12/20\n",
      "\u001b[1m338/338\u001b[0m \u001b[32m━━━━━━━━━━━━━━━━━━━━\u001b[0m\u001b[37m\u001b[0m \u001b[1m0s\u001b[0m 706us/step - accuracy: 0.5308 - loss: 0.6885 - val_accuracy: 0.5163 - val_loss: 0.7170\n",
      "Epoch 13/20\n",
      "\u001b[1m338/338\u001b[0m \u001b[32m━━━━━━━━━━━━━━━━━━━━\u001b[0m\u001b[37m\u001b[0m \u001b[1m0s\u001b[0m 720us/step - accuracy: 0.5486 - loss: 0.6872 - val_accuracy: 0.4954 - val_loss: 0.6994\n",
      "Epoch 14/20\n",
      "\u001b[1m338/338\u001b[0m \u001b[32m━━━━━━━━━━━━━━━━━━━━\u001b[0m\u001b[37m\u001b[0m \u001b[1m0s\u001b[0m 710us/step - accuracy: 0.5476 - loss: 0.6867 - val_accuracy: 0.5096 - val_loss: 0.7093\n",
      "Epoch 15/20\n",
      "\u001b[1m338/338\u001b[0m \u001b[32m━━━━━━━━━━━━━━━━━━━━\u001b[0m\u001b[37m\u001b[0m \u001b[1m0s\u001b[0m 707us/step - accuracy: 0.5464 - loss: 0.6877 - val_accuracy: 0.4987 - val_loss: 0.7104\n",
      "Epoch 16/20\n",
      "\u001b[1m338/338\u001b[0m \u001b[32m━━━━━━━━━━━━━━━━━━━━\u001b[0m\u001b[37m\u001b[0m \u001b[1m0s\u001b[0m 704us/step - accuracy: 0.5382 - loss: 0.6864 - val_accuracy: 0.4854 - val_loss: 0.7110\n",
      "Epoch 17/20\n",
      "\u001b[1m338/338\u001b[0m \u001b[32m━━━━━━━━━━━━━━━━━━━━\u001b[0m\u001b[37m\u001b[0m \u001b[1m0s\u001b[0m 732us/step - accuracy: 0.5461 - loss: 0.6881 - val_accuracy: 0.4904 - val_loss: 0.7061\n",
      "Epoch 18/20\n",
      "\u001b[1m338/338\u001b[0m \u001b[32m━━━━━━━━━━━━━━━━━━━━\u001b[0m\u001b[37m\u001b[0m \u001b[1m0s\u001b[0m 694us/step - accuracy: 0.5644 - loss: 0.6801 - val_accuracy: 0.4871 - val_loss: 0.7072\n",
      "Epoch 19/20\n",
      "\u001b[1m338/338\u001b[0m \u001b[32m━━━━━━━━━━━━━━━━━━━━\u001b[0m\u001b[37m\u001b[0m \u001b[1m0s\u001b[0m 698us/step - accuracy: 0.5518 - loss: 0.6852 - val_accuracy: 0.4979 - val_loss: 0.7122\n",
      "Epoch 20/20\n",
      "\u001b[1m338/338\u001b[0m \u001b[32m━━━━━━━━━━━━━━━━━━━━\u001b[0m\u001b[37m\u001b[0m \u001b[1m0s\u001b[0m 747us/step - accuracy: 0.5544 - loss: 0.6823 - val_accuracy: 0.4987 - val_loss: 0.7145\n"
     ]
    }
   ],
   "source": [
    "# 1. Build a new model (same architecture)\n",
    "from tensorflow import keras\n",
    "from tensorflow.keras import layers\n",
    "\n",
    "model = keras.Sequential([\n",
    "    layers.Dense(64, activation='relu', input_shape=(X_train_scaled.shape[1],)),\n",
    "    layers.Dense(32, activation='relu'),\n",
    "    layers.Dense(1, activation='sigmoid')\n",
    "])\n",
    "\n",
    "# 2. Compile the model\n",
    "model.compile(\n",
    "    optimizer='adam',\n",
    "    loss='binary_crossentropy',\n",
    "    metrics=['accuracy']\n",
    ")\n",
    "\n",
    "# 3. Train the model on scaled data\n",
    "history = model.fit(\n",
    "    X_train_scaled,\n",
    "    y_train,\n",
    "    epochs=20,\n",
    "    batch_size=32,\n",
    "    validation_data=(X_val_scaled, y_val)\n",
    ")"
   ]
  },
  {
   "cell_type": "code",
   "execution_count": null,
   "id": "b25a92f6-acce-4af7-b719-95f129ef1e98",
   "metadata": {},
   "outputs": [],
   "source": []
  }
 ],
 "metadata": {
  "kernelspec": {
   "display_name": "Python (venv)",
   "language": "python",
   "name": "venv"
  },
  "language_info": {
   "codemirror_mode": {
    "name": "ipython",
    "version": 3
   },
   "file_extension": ".py",
   "mimetype": "text/x-python",
   "name": "python",
   "nbconvert_exporter": "python",
   "pygments_lexer": "ipython3",
   "version": "3.10.16"
  }
 },
 "nbformat": 4,
 "nbformat_minor": 5
}
